{
  "cells": [
    {
      "cell_type": "markdown",
      "metadata": {
        "id": "view-in-github",
        "colab_type": "text"
      },
      "source": [
        "<a href=\"https://colab.research.google.com/github/Chitti70750/Bharathintern/blob/main/Book_store_inventory.ipynb\" target=\"_parent\"><img src=\"https://colab.research.google.com/assets/colab-badge.svg\" alt=\"Open In Colab\"/></a>"
      ]
    },
    {
      "cell_type": "markdown",
      "metadata": {
        "id": "Yx9FFvA32exb"
      },
      "source": [
        "# New section"
      ]
    },
    {
      "cell_type": "markdown",
      "source": [
        "# New section"
      ],
      "metadata": {
        "id": "NJhc8uiapZJN"
      }
    },
    {
      "cell_type": "code",
      "source": [
        "class Book:\n",
        "    def __init__(self, title, author, quantity):\n",
        "        self.title = title\n",
        "        self.author = author\n",
        "        self.quantity = quantity\n",
        "\n",
        "class BookStoreInventory:\n",
        "    def __init__(self):\n",
        "        self.inventory = []\n",
        "\n",
        "    def add_book(self, title, author, quantity):\n",
        "        self.inventory.append(Book(title, author, quantity))\n",
        "\n",
        "    def update_quantity(self, title, new_quantity):\n",
        "        for book in self.inventory:\n",
        "            if book.title == title:\n",
        "                book.quantity = new_quantity\n",
        "                break\n",
        "        else:\n",
        "            print(\"Book not found in inventory.\")\n",
        "\n",
        "    def view_inventory(self):\n",
        "        print(\"Title\\t\\tAuthor\\t\\tQuantity\")\n",
        "        for book in self.inventory:\n",
        "            print(f\"{book.title}\\t{book.author}\\t{book.quantity}\")\n",
        "\n",
        "def main():\n",
        "    inventory_system = BookStoreInventory()\n",
        "\n",
        "    # Add books from the provided dataset\n",
        "    books_data = [\n",
        "        (\"To Kill a Mockingbird\", \"Harper Lee\", 25),\n",
        "        (\"1984\", \"George Orwell\", 30),\n",
        "        (\"The Hobbit\", \"J.R.R. Tolkien\", 20),\n",
        "        (\"The Catcher in the Rye\", \"J.D. Salinger\", 10),\n",
        "        (\"The Great Gatsby\", \"F. Scott Fitzgerald\", 18),\n",
        "        (\"The Alchemist\", \"Paulo Coelho\", 22),\n",
        "        (\"Frankenstein\", \"Mary Shelley\", 12),\n",
        "        (\"Harry Potter and the Sorcerer's Stone\", \"J.K. Rowling\", 25),\n",
        "        (\"Dune\", \"Frank Herbert\", 20),\n",
        "        (\"Jurassic Park\", \"Michael Crichton\", 17),\n",
        "        (\"Animal Farm\", \"George Orwell\", 14)\n",
        "    ]\n",
        "\n",
        "    for title, author, quantity in books_data:\n",
        "        inventory_system.add_book(title, author, quantity)\n",
        "\n",
        "    while True:\n",
        "        print(\"\\nWelcome to the Book Store Inventory System\")\n",
        "        print(\"1. View Inventory\")\n",
        "        print(\"2. Add Book\")\n",
        "        print(\"3. Update Quantity\")\n",
        "        print(\"4. Exit\")\n",
        "\n",
        "        choice = input(\"Enter your choice: \")\n",
        "\n",
        "        if choice == '1':\n",
        "            inventory_system.view_inventory()\n",
        "            print(\"view successsfully completed\")\n",
        "        elif choice == '2':\n",
        "            title = input(\"Enter title of the book: \")\n",
        "            author = input(\"Enter author of the book: \")\n",
        "            quantity = int(input(\"Enter quantity of the book: \"))\n",
        "            inventory_system.add_book(title, author, quantity)\n",
        "            print(\"Book added to inventory.\")\n",
        "        elif choice == '3':\n",
        "            title = input(\"Enter title of the book: \")\n",
        "            new_quantity = int(input(\"Enter new quantity: \"))\n",
        "            inventory_system.update_quantity(title, new_quantity)\n",
        "        elif choice == '4':\n",
        "            print(\"Exiting program. Goodbye!\")\n",
        "            break\n",
        "        else:\n",
        "            print(\"Invalid choice. Please try again.\")\n",
        "\n",
        "if __name__ == \"__main__\":\n",
        "    main()"
      ],
      "metadata": {
        "colab": {
          "base_uri": "https://localhost:8080/"
        },
        "id": "wAfeS8ynkTl5",
        "outputId": "4867c065-48cd-463a-dde8-fd41d971290b"
      },
      "execution_count": 3,
      "outputs": [
        {
          "output_type": "stream",
          "name": "stdout",
          "text": [
            "\n",
            "Welcome to the Book Store Inventory System\n",
            "1. View Inventory\n",
            "2. Add Book\n",
            "3. Update Quantity\n",
            "4. Exit\n",
            "Enter your choice: 1\n",
            "Title\t\tAuthor\t\tQuantity\n",
            "To Kill a Mockingbird\tHarper Lee\t25\n",
            "1984\tGeorge Orwell\t30\n",
            "The Hobbit\tJ.R.R. Tolkien\t20\n",
            "The Catcher in the Rye\tJ.D. Salinger\t10\n",
            "The Great Gatsby\tF. Scott Fitzgerald\t18\n",
            "The Alchemist\tPaulo Coelho\t22\n",
            "Frankenstein\tMary Shelley\t12\n",
            "Harry Potter and the Sorcerer's Stone\tJ.K. Rowling\t25\n",
            "Dune\tFrank Herbert\t20\n",
            "Jurassic Park\tMichael Crichton\t17\n",
            "Animal Farm\tGeorge Orwell\t14\n",
            "view successsfully completed\n",
            "\n",
            "Welcome to the Book Store Inventory System\n",
            "1. View Inventory\n",
            "2. Add Book\n",
            "3. Update Quantity\n",
            "4. Exit\n",
            "Enter your choice: 2\n",
            "Enter title of the book: 1984\n",
            "Enter author of the book: george orwell\n",
            "Enter quantity of the book: 30\n",
            "Book added to inventory.\n",
            "\n",
            "Welcome to the Book Store Inventory System\n",
            "1. View Inventory\n",
            "2. Add Book\n",
            "3. Update Quantity\n",
            "4. Exit\n",
            "Enter your choice: 3\n",
            "Enter title of the book: 1984\n",
            "Enter new quantity: 35\n",
            "\n",
            "Welcome to the Book Store Inventory System\n",
            "1. View Inventory\n",
            "2. Add Book\n",
            "3. Update Quantity\n",
            "4. Exit\n",
            "Enter your choice: 1\n",
            "Title\t\tAuthor\t\tQuantity\n",
            "To Kill a Mockingbird\tHarper Lee\t25\n",
            "1984\tGeorge Orwell\t35\n",
            "The Hobbit\tJ.R.R. Tolkien\t20\n",
            "The Catcher in the Rye\tJ.D. Salinger\t10\n",
            "The Great Gatsby\tF. Scott Fitzgerald\t18\n",
            "The Alchemist\tPaulo Coelho\t22\n",
            "Frankenstein\tMary Shelley\t12\n",
            "Harry Potter and the Sorcerer's Stone\tJ.K. Rowling\t25\n",
            "Dune\tFrank Herbert\t20\n",
            "Jurassic Park\tMichael Crichton\t17\n",
            "Animal Farm\tGeorge Orwell\t14\n",
            "1984\tgeorge orwell\t30\n",
            "view successsfully completed\n",
            "\n",
            "Welcome to the Book Store Inventory System\n",
            "1. View Inventory\n",
            "2. Add Book\n",
            "3. Update Quantity\n",
            "4. Exit\n",
            "Enter your choice: 4\n",
            "Exiting program. Goodbye!\n"
          ]
        }
      ]
    }
  ],
  "metadata": {
    "colab": {
      "provenance": [],
      "include_colab_link": true
    },
    "kernelspec": {
      "display_name": "Python 3",
      "name": "python3"
    }
  },
  "nbformat": 4,
  "nbformat_minor": 0
}